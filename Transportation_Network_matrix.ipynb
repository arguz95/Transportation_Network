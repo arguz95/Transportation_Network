{
 "cells": [
  {
   "cell_type": "code",
   "execution_count": 1,
   "metadata": {},
   "outputs": [
    {
     "name": "stdout",
     "output_type": "stream",
     "text": [
      "Using license file /Users/arnaudguzman-annes/gurobi.lic\n",
      "Academic license - for non-commercial use only\n",
      "No parameters matching '_test' found\n"
     ]
    }
   ],
   "source": [
    "# Arnaud Guzman-Annès\n",
    "\n",
    "import pulp as plp\n",
    "from pulp import *\n",
    "import numpy as np\n",
    "import pandas as pd\n"
   ]
  },
  {
   "cell_type": "code",
   "execution_count": 2,
   "metadata": {},
   "outputs": [],
   "source": [
    "prob = plp.LpProblem(\"Transportation_Network\")\n",
    "prob.sense=LpMinimize"
   ]
  },
  {
   "cell_type": "code",
   "execution_count": 3,
   "metadata": {},
   "outputs": [],
   "source": [
    "cost = [[3800, 4000, 6000],\n",
    "       [3300, 3500, 5950],\n",
    "       [2800, 4000, 6200],\n",
    "       [2000, 4300, 5000]]\n",
    "\n",
    "supply = [400, 900, 200, 500]\n",
    "demand = [500, 700, 800]\n",
    "\n",
    "SupplyCity = ['Singapore','HK','TP','Seoul']\n",
    "DemandCity = ['London','Paris','NY']"
   ]
  },
  {
   "cell_type": "code",
   "execution_count": 4,
   "metadata": {},
   "outputs": [
    {
     "data": {
      "text/plain": [
       "{0: {0: x_0_0, 1: x_0_1, 2: x_0_2},\n",
       " 1: {0: x_1_0, 1: x_1_1, 2: x_1_2},\n",
       " 2: {0: x_2_0, 1: x_2_1, 2: x_2_2},\n",
       " 3: {0: x_3_0, 1: x_3_1, 2: x_3_2}}"
      ]
     },
     "execution_count": 4,
     "metadata": {},
     "output_type": "execute_result"
    }
   ],
   "source": [
    "x = plp.LpVariable.dicts(name = \"x\", indexs = (range(len(supply)),range(len(demand))), lowBound = 0, cat = plp.LpContinuous)\n",
    "x"
   ]
  },
  {
   "cell_type": "code",
   "execution_count": 5,
   "metadata": {},
   "outputs": [
    {
     "data": {
      "text/plain": [
       "Transportation_Network:\n",
       "MINIMIZE\n",
       "-3800*x_0_0 + -4000*x_0_1 + -6000*x_0_2 + -3300*x_1_0 + -3500*x_1_1 + -5950*x_1_2 + -2800*x_2_0 + -4000*x_2_1 + -6200*x_2_2 + -2000*x_3_0 + -4300*x_3_1 + -5000*x_3_2 + 3600\n",
       "SUBJECT TO\n",
       "Supply_Singapore: x_0_0 + x_0_1 + x_0_2 <= 400\n",
       "\n",
       "Supply_HK: x_1_0 + x_1_1 + x_1_2 <= 900\n",
       "\n",
       "Supply_TP: x_2_0 + x_2_1 + x_2_2 <= 200\n",
       "\n",
       "Supply_Seoul: x_3_0 + x_3_1 + x_3_2 <= 500\n",
       "\n",
       "Demand_London: x_0_0 + x_1_0 + x_2_0 + x_3_0 = 500\n",
       "\n",
       "Demand_Paris: x_0_1 + x_1_1 + x_2_1 + x_3_1 = 700\n",
       "\n",
       "Demand_NY: x_0_2 + x_1_2 + x_2_2 + x_3_2 = 800\n",
       "\n",
       "VARIABLES\n",
       "x_0_0 Continuous\n",
       "x_0_1 Continuous\n",
       "x_0_2 Continuous\n",
       "x_1_0 Continuous\n",
       "x_1_1 Continuous\n",
       "x_1_2 Continuous\n",
       "x_2_0 Continuous\n",
       "x_2_1 Continuous\n",
       "x_2_2 Continuous\n",
       "x_3_0 Continuous\n",
       "x_3_1 Continuous\n",
       "x_3_2 Continuous"
      ]
     },
     "execution_count": 5,
     "metadata": {},
     "output_type": "execute_result"
    }
   ],
   "source": [
    "for i in range(len(supply)):\n",
    "    prob += pulp.lpSum(x[i][j] for j in range(len(demand))) <= supply[i], \"Supply_\" + SupplyCity[i]\n",
    "    \n",
    "for j in range(len(demand)):\n",
    "    prob += pulp.lpSum(x[i][j] for i in range(len(supply))) == demand[j], \"Demand_\" + DemandCity[j]\n",
    "\n",
    "prob += pulp.lpSum(cost[i][j] * x[i][j] for i in range(len(supply)) for j in range(len(demand)))\n",
    "prob"
   ]
  },
  {
   "cell_type": "code",
   "execution_count": 6,
   "metadata": {},
   "outputs": [
    {
     "data": {
      "text/plain": [
       "1"
      ]
     },
     "execution_count": 6,
     "metadata": {},
     "output_type": "execute_result"
    }
   ],
   "source": [
    "prob.solve()"
   ]
  },
  {
   "cell_type": "code",
   "execution_count": 7,
   "metadata": {},
   "outputs": [
    {
     "name": "stdout",
     "output_type": "stream",
     "text": [
      "============================== \n",
      "Solution Status: Optimal\n",
      "The minimum cost of shipping is: $ 8200000.0\n",
      "Optimal Soultion:\n",
      "x_0_0 = 0.0\n",
      "x_0_1 = 0.0\n",
      "x_0_2 = 400.0\n",
      "x_1_0 = 0.0\n",
      "x_1_1 = 700.0\n",
      "x_1_2 = 200.0\n",
      "x_2_0 = 200.0\n",
      "x_2_1 = 0.0\n",
      "x_2_2 = 0.0\n",
      "x_3_0 = 300.0\n",
      "x_3_1 = 0.0\n",
      "x_3_2 = 200.0\n",
      "Constraints\n",
      "Supply_Singapore = 0.0\n",
      "Supply_HK = 0.0\n",
      "Supply_TP = 0.0\n",
      "Supply_Seoul = 0.0\n",
      "Demand_London = 0.0\n",
      "Demand_Paris = 0.0\n",
      "Demand_NY = 0.0\n"
     ]
    }
   ],
   "source": [
    "# The status of the solution is printed to the screen\n",
    "print(\"=\"*30,\"\\nSolution Status:\", plp.LpStatus[prob.status])\n",
    "\n",
    "# Results\n",
    "print(\"The minimum cost of shipping is: $\", str(value(prob.objective)))\n",
    "\n",
    "print(\"Optimal Soultion:\")\n",
    "for v in prob.variables():\n",
    "    print(v.name, \"=\", v.varValue)\n",
    "\n",
    "print(\"Constraints\")\n",
    "for c in list(prob.constraints.values()):\n",
    "    print(c.name, \"=\", c.value())"
   ]
  },
  {
   "cell_type": "code",
   "execution_count": null,
   "metadata": {},
   "outputs": [],
   "source": []
  }
 ],
 "metadata": {
  "kernelspec": {
   "display_name": "Python 3",
   "language": "python",
   "name": "python3"
  },
  "language_info": {
   "codemirror_mode": {
    "name": "ipython",
    "version": 3
   },
   "file_extension": ".py",
   "mimetype": "text/x-python",
   "name": "python",
   "nbconvert_exporter": "python",
   "pygments_lexer": "ipython3",
   "version": "3.7.6"
  }
 },
 "nbformat": 4,
 "nbformat_minor": 4
}
